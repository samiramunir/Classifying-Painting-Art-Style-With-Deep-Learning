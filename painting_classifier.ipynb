{
  "nbformat": 4,
  "nbformat_minor": 0,
  "metadata": {
    "colab": {
      "name": "painting-classifier.ipynb",
      "version": "0.3.2",
      "provenance": [],
      "collapsed_sections": [
        "efUBTU4ThHil",
        "rlFEqdtejMX8"
      ],
      "toc_visible": true,
      "include_colab_link": true
    },
    "kernelspec": {
      "name": "python3",
      "display_name": "Python 3"
    },
    "accelerator": "GPU"
  },
  "cells": [
    {
      "cell_type": "markdown",
      "metadata": {
        "id": "view-in-github",
        "colab_type": "text"
      },
      "source": [
        "<a href=\"https://colab.research.google.com/github/samiramunir/Classifying-Painting-Art-Style-With-Deep-Learning/blob/master/painting_classifier.ipynb\" target=\"_parent\"><img src=\"https://colab.research.google.com/assets/colab-badge.svg\" alt=\"Open In Colab\"/></a>"
      ]
    },
    {
      "metadata": {
        "id": "UNmVQ6rZCRFc",
        "colab_type": "text"
      },
      "cell_type": "markdown",
      "source": [
        "# Painting Classifier"
      ]
    },
    {
      "metadata": {
        "id": "-vfsK3jjgi6-",
        "colab_type": "text"
      },
      "cell_type": "markdown",
      "source": [
        "## Importing Images into Colab"
      ]
    },
    {
      "metadata": {
        "id": "_cOEal2tUaVR",
        "colab_type": "code",
        "outputId": "635f7c66-4ce5-42c0-af26-8f1cb397cdd2",
        "colab": {
          "base_uri": "https://localhost:8080/",
          "height": 125
        }
      },
      "cell_type": "code",
      "source": [
        "# Install the PyDrive wrapper & import libraries.\n",
        "# This only needs to be done once per notebook.\n",
        "!pip install -U -q PyDrive\n",
        "from pydrive.auth import GoogleAuth\n",
        "from pydrive.drive import GoogleDrive\n",
        "from google.colab import auth\n",
        "from oauth2client.client import GoogleCredentials\n",
        "\n",
        "# Authenticate and create the PyDrive client.\n",
        "# This only needs to be done once per notebook.\n",
        "auth.authenticate_user()\n",
        "gauth = GoogleAuth()\n",
        "gauth.credentials = GoogleCredentials.get_application_default()\n",
        "drive = GoogleDrive(gauth)\n",
        "\n",
        "from google.colab import drive\n",
        "drive.mount('/content/gdrive')"
      ],
      "execution_count": 0,
      "outputs": [
        {
          "output_type": "stream",
          "text": [
            "Go to this URL in a browser: https://accounts.google.com/o/oauth2/auth?client_id=947318989803-6bn6qk8qdgf4n4g3pfee6491hc0brc4i.apps.googleusercontent.com&redirect_uri=urn%3Aietf%3Awg%3Aoauth%3A2.0%3Aoob&scope=email%20https%3A%2F%2Fwww.googleapis.com%2Fauth%2Fdocs.test%20https%3A%2F%2Fwww.googleapis.com%2Fauth%2Fdrive%20https%3A%2F%2Fwww.googleapis.com%2Fauth%2Fdrive.photos.readonly%20https%3A%2F%2Fwww.googleapis.com%2Fauth%2Fpeopleapi.readonly&response_type=code\n",
            "\n",
            "Enter your authorization code:\n",
            "··········\n",
            "Mounted at /content/gdrive\n"
          ],
          "name": "stdout"
        }
      ]
    },
    {
      "metadata": {
        "id": "URL0S1FZ-Cjg",
        "colab_type": "code",
        "outputId": "3f68a40d-76b6-4a24-abcc-030daa337540",
        "colab": {
          "base_uri": "https://localhost:8080/",
          "height": 35
        }
      },
      "cell_type": "code",
      "source": [
        "cd gdrive/My\\ Drive"
      ],
      "execution_count": 0,
      "outputs": [
        {
          "output_type": "stream",
          "text": [
            "/content/gdrive/My Drive\n"
          ],
          "name": "stdout"
        }
      ]
    },
    {
      "metadata": {
        "id": "7flEC4JHCJ6M",
        "colab_type": "text"
      },
      "cell_type": "markdown",
      "source": [
        "## Image Preprocessing with Keras"
      ]
    },
    {
      "metadata": {
        "id": "-ogEtvpkCkiX",
        "colab_type": "code",
        "outputId": "3bbdc3e8-a35f-43f1-fee0-561a6b7cd82e",
        "colab": {
          "base_uri": "https://localhost:8080/",
          "height": 35
        }
      },
      "cell_type": "code",
      "source": [
        "\n",
        "from keras.preprocessing.image import ImageDataGenerator, array_to_img, img_to_array, load_img\n",
        "from PIL import ImageFile\n",
        "ImageFile.LOAD_TRUNCATED_IMAGES = True\n",
        "\n",
        "directory = 'images/'\n",
        "\n",
        "data_all = ImageDataGenerator(rescale=1./255).flow_from_directory( \n",
        "        directory, \n",
        "        target_size=(256, 256), \n",
        "        batch_size = 2500) \n"
      ],
      "execution_count": 0,
      "outputs": [
        {
          "output_type": "stream",
          "text": [
            "Found 5009 images belonging to 5 classes.\n"
          ],
          "name": "stdout"
        }
      ]
    },
    {
      "metadata": {
        "id": "Eubyp4V2PKdn",
        "colab_type": "code",
        "outputId": "e7f517ed-b524-408d-994e-92f76d7b07c6",
        "colab": {
          "base_uri": "https://localhost:8080/",
          "height": 52
        }
      },
      "cell_type": "code",
      "source": [
        "\n",
        "from keras.preprocessing.image import ImageDataGenerator, array_to_img, img_to_array, load_img\n",
        "from PIL import ImageFile\n",
        "ImageFile.LOAD_TRUNCATED_IMAGES = True\n",
        "\n",
        "directory = 'images/'\n",
        "\n",
        "data_test = ImageDataGenerator(rescale=1./255).flow_from_directory( \n",
        "        directory, \n",
        "        target_size=(256, 256), \n",
        "        batch_size = 400) "
      ],
      "execution_count": 0,
      "outputs": [
        {
          "output_type": "stream",
          "text": [
            "Using TensorFlow backend.\n"
          ],
          "name": "stderr"
        },
        {
          "output_type": "stream",
          "text": [
            "Found 5009 images belonging to 5 classes.\n"
          ],
          "name": "stdout"
        }
      ]
    },
    {
      "metadata": {
        "id": "R-WVfXVgClDo",
        "colab_type": "code",
        "colab": {}
      },
      "cell_type": "code",
      "source": [
        "x_test, y_test = next(data_test)"
      ],
      "execution_count": 0,
      "outputs": []
    },
    {
      "metadata": {
        "id": "XdEwvwr-Q-6s",
        "colab_type": "code",
        "colab": {}
      },
      "cell_type": "code",
      "source": [
        "images, labels = next(data_all)"
      ],
      "execution_count": 0,
      "outputs": []
    },
    {
      "metadata": {
        "id": "g_jgrmtNWJGB",
        "colab_type": "code",
        "colab": {}
      },
      "cell_type": "code",
      "source": [
        "from sklearn.model_selection import train_test_split\n",
        "x_train, x_test, y_train, y_test = train_test_split(images, labels, test_size=0.2)\n",
        "x_test, x_val, y_test, y_val = train_test_split(x_test, y_test, test_size=0.5)"
      ],
      "execution_count": 0,
      "outputs": []
    },
    {
      "metadata": {
        "id": "4OfpiZMrX_n8",
        "colab_type": "text"
      },
      "cell_type": "markdown",
      "source": [
        "# Testing Models"
      ]
    },
    {
      "metadata": {
        "id": "b6BP-eITbayd",
        "colab_type": "code",
        "colab": {}
      },
      "cell_type": "code",
      "source": [
        "import pandas as pd\n",
        "import numpy as np\n",
        "import os\n",
        "import keras\n",
        "import matplotlib.pyplot as plt\n",
        "\n",
        "from keras import models\n",
        "from keras import layers\n",
        "from keras import regularizers\n",
        "\n",
        "from keras.layers import Dense, GlobalAveragePooling2D, Conv2D\n",
        "from keras.applications import MobileNet, VGG19\n",
        "from keras.preprocessing import image\n",
        "from keras.applications.mobilenet import preprocess_input\n",
        "from keras.preprocessing.image import ImageDataGenerator\n",
        "from keras.models import Model\n",
        "from keras.optimizers import Adam, sgd\n",
        "from keras.activations import relu, tanh, sigmoid\n",
        "\n",
        "from sklearn.metrics import confusion_matrix"
      ],
      "execution_count": 0,
      "outputs": []
    },
    {
      "metadata": {
        "id": "efUBTU4ThHil",
        "colab_type": "text"
      },
      "cell_type": "markdown",
      "source": [
        "## Model 1: VGG19 + 3 Dense Layers (tanh) + SGD"
      ]
    },
    {
      "metadata": {
        "id": "O72b3TuedIxM",
        "colab_type": "code",
        "outputId": "b7fd2580-8ade-4f55-d12d-4436d0f62264",
        "colab": {
          "base_uri": "https://localhost:8080/",
          "height": 72
        }
      },
      "cell_type": "code",
      "source": [
        "base_model=VGG19(weights='imagenet',include_top=False) #imports the mobilenet model and discards the last 1000 neuron layer.\n",
        "\n",
        "x=base_model.output\n",
        "x=GlobalAveragePooling2D()(x)\n",
        "x=Dense(1024,activation='tanh')(x)\n",
        "x=Dense(512,activation='tanh')(x)\n",
        "x=Dense(100, activation = 'tanh')(x)\n",
        "preds = Dense(5, activation='softmax')(x)#final layer with softmax activation"
      ],
      "execution_count": 0,
      "outputs": [
        {
          "output_type": "stream",
          "text": [
            "Downloading data from https://github.com/fchollet/deep-learning-models/releases/download/v0.1/vgg19_weights_tf_dim_ordering_tf_kernels_notop.h5\n",
            "80142336/80134624 [==============================] - 3s 0us/step\n"
          ],
          "name": "stdout"
        }
      ]
    },
    {
      "metadata": {
        "id": "MK5KrDs9dIz-",
        "colab_type": "code",
        "colab": {}
      },
      "cell_type": "code",
      "source": [
        "model=Model(inputs=base_model.input,outputs=preds)"
      ],
      "execution_count": 0,
      "outputs": []
    },
    {
      "metadata": {
        "id": "7hw0ynKrdmLy",
        "colab_type": "code",
        "colab": {}
      },
      "cell_type": "code",
      "source": [
        "for layer in model.layers[:22]:\n",
        "    layer.trainable=False\n",
        "for layer in model.layers[22:]:\n",
        "    layer.trainable=True"
      ],
      "execution_count": 0,
      "outputs": []
    },
    {
      "metadata": {
        "id": "ciR7cAZxdmQJ",
        "colab_type": "code",
        "colab": {}
      },
      "cell_type": "code",
      "source": [
        "model.compile(optimizer='sgd', loss='categorical_crossentropy', metrics=['acc'])"
      ],
      "execution_count": 0,
      "outputs": []
    },
    {
      "metadata": {
        "id": "1muspYOudmUi",
        "colab_type": "code",
        "colab": {}
      },
      "cell_type": "code",
      "source": [
        "results = model.fit(x_train, y_train, epochs=25, batch_size=20, validation_data=(x_val, y_val))"
      ],
      "execution_count": 0,
      "outputs": []
    },
    {
      "metadata": {
        "id": "WppXh8jxd2_Y",
        "colab_type": "code",
        "outputId": "2881bcce-cfb6-4eb1-97ff-c202844ebbbe",
        "colab": {
          "base_uri": "https://localhost:8080/",
          "height": 295
        }
      },
      "cell_type": "code",
      "source": [
        "hist = results.history\n",
        "loss_values = hist['loss']\n",
        "val_loss_values = hist['val_loss']\n",
        "acc_values = hist['acc'] \n",
        "val_acc_values = hist['val_acc']\n",
        "\n",
        "epochs = range(1, len(loss_values) + 1)\n",
        "\n",
        "plt.figure(figsize=(15,4))\n",
        "plt.subplot(121)\n",
        "plt.plot(epochs, loss_values, 'g.', label='Training loss')\n",
        "plt.plot(epochs, val_loss_values, 'g', label='Validation loss')\n",
        "\n",
        "plt.title('Training and validation loss')\n",
        "plt.xlabel('Epochs')\n",
        "plt.ylabel('Loss')\n",
        "plt.legend()\n",
        "\n",
        "plt.subplot(122)\n",
        "plt.plot(epochs, acc_values, 'r.', label='Training acc')\n",
        "plt.plot(epochs, val_acc_values, 'r', label='Validation acc')\n",
        "plt.title('Training and validation accuracy')\n",
        "plt.xlabel('Epochs')\n",
        "plt.ylabel('Accuracy')\n",
        "plt.legend()\n",
        "plt.show()\n"
      ],
      "execution_count": 0,
      "outputs": [
        {
          "output_type": "display_data",
          "data": {
            "image/png": "[encoded data removed]",
            "text/plain": [
              "<Figure size 1080x288 with 2 Axes>"
            ]
          },
          "metadata": {
            "tags": []
          }
        }
      ]
    },
    {
      "metadata": {
        "id": "jPgis51Tkv6A",
        "colab_type": "code",
        "colab": {}
      },
      "cell_type": "code",
      "source": [
        "y_pred = model.predict(x_test)"
      ],
      "execution_count": 0,
      "outputs": []
    },
    {
      "metadata": {
        "id": "qXAvL779lMNf",
        "colab_type": "code",
        "outputId": "fc760c52-dbc0-42b5-ffa9-b42866fb74f8",
        "colab": {
          "base_uri": "https://localhost:8080/",
          "height": 35
        }
      },
      "cell_type": "code",
      "source": [
        "y_test.shape"
      ],
      "execution_count": 0,
      "outputs": [
        {
          "output_type": "execute_result",
          "data": {
            "text/plain": [
              "(250, 5)"
            ]
          },
          "metadata": {
            "tags": []
          },
          "execution_count": 33
        }
      ]
    },
    {
      "metadata": {
        "id": "WUz7ckhvjd0u",
        "colab_type": "code",
        "colab": {}
      },
      "cell_type": "code",
      "source": [
        "model.save('model1.h5')\n",
        "model.save_weights('model1_weights.h5')"
      ],
      "execution_count": 0,
      "outputs": []
    },
    {
      "metadata": {
        "id": "M4GcyCDgOpZz",
        "colab_type": "code",
        "colab": {}
      },
      "cell_type": "code",
      "source": [
        "from keras.models import load_model\n",
        "model1 = load_model('mod4-models/model1.h5')\n",
        "model1.load_weights('mod4-models/model1_weights.h5')\n",
        "model1.evaluate(x_test, y_test)"
      ],
      "execution_count": 0,
      "outputs": []
    },
    {
      "metadata": {
        "id": "Lj79-x5-Opc9",
        "colab_type": "code",
        "outputId": "0ad3be97-d20b-4575-890a-f421b3232d5b",
        "colab": {
          "base_uri": "https://localhost:8080/",
          "height": 52
        }
      },
      "cell_type": "code",
      "source": [
        "model1.evaluate(x_test, y_test)"
      ],
      "execution_count": 0,
      "outputs": [
        {
          "output_type": "stream",
          "text": [
            "400/400 [==============================] - 13s 32ms/step\n"
          ],
          "name": "stdout"
        },
        {
          "output_type": "execute_result",
          "data": {
            "text/plain": [
              "[1.1268765306472779, 0.5725]"
            ]
          },
          "metadata": {
            "tags": []
          },
          "execution_count": 8
        }
      ]
    },
    {
      "metadata": {
        "id": "6RIGo9pJhOsr",
        "colab_type": "text"
      },
      "cell_type": "markdown",
      "source": [
        "## Model 2: VGG + 4 Dense Layers (relu) + SGD"
      ]
    },
    {
      "metadata": {
        "id": "81FNH6zKd3CE",
        "colab_type": "code",
        "outputId": "60d906cb-22a2-4125-ead7-deb545700228",
        "colab": {
          "base_uri": "https://localhost:8080/",
          "height": 72
        }
      },
      "cell_type": "code",
      "source": [
        "base_model=VGG19(weights='imagenet',include_top=False) #imports the mobilenet model and discards the last 1000 neuron layer.\n",
        "\n",
        "x=base_model.output\n",
        "x=GlobalAveragePooling2D()(x)\n",
        "x=Dense(1024,activation='relu')(x)\n",
        "x=Dense(720,activation='relu')(x)\n",
        "x=Dense(512,activation='relu')(x)\n",
        "x=Dense(100, activation = 'relu')(x)\n",
        "preds = Dense(5, activation='softmax')(x)#final layer with softmax activation"
      ],
      "execution_count": 0,
      "outputs": [
        {
          "output_type": "stream",
          "text": [
            "Downloading data from https://github.com/fchollet/deep-learning-models/releases/download/v0.1/vgg19_weights_tf_dim_ordering_tf_kernels_notop.h5\n",
            "80142336/80134624 [==============================] - 3s 0us/step\n"
          ],
          "name": "stdout"
        }
      ]
    },
    {
      "metadata": {
        "id": "BVjDqv9Zd3FI",
        "colab_type": "code",
        "colab": {}
      },
      "cell_type": "code",
      "source": [
        "model2=Model(inputs=base_model.input,outputs=preds)\n",
        "for layer in model2.layers[:22]:\n",
        "    layer.trainable=False\n",
        "for layer in model2.layers[22:]:\n",
        "    layer.trainable=True"
      ],
      "execution_count": 0,
      "outputs": []
    },
    {
      "metadata": {
        "id": "1fuHh-oKd3Hz",
        "colab_type": "code",
        "colab": {}
      },
      "cell_type": "code",
      "source": [
        "model2.compile(optimizer='sgd', loss='categorical_crossentropy', metrics=['acc'])"
      ],
      "execution_count": 0,
      "outputs": []
    },
    {
      "metadata": {
        "id": "czD431qMiQSq",
        "colab_type": "code",
        "outputId": "fe6cb1e9-10d6-425a-a4a3-de6ce0bb7dd3",
        "colab": {
          "base_uri": "https://localhost:8080/",
          "height": 735
        }
      },
      "cell_type": "code",
      "source": [
        "results = model2.fit(x_train, y_train, epochs=20, batch_size=40, validation_data=(x_val, y_val))"
      ],
      "execution_count": 0,
      "outputs": [
        {
          "output_type": "stream",
          "text": [
            "Train on 3200 samples, validate on 400 samples\n",
            "Epoch 1/20\n",
            "3200/3200 [==============================] - 57s 18ms/step - loss: 1.5309 - acc: 0.3491 - val_loss: 1.4533 - val_acc: 0.4975\n",
            "Epoch 2/20\n",
            "3200/3200 [==============================] - 51s 16ms/step - loss: 1.4103 - acc: 0.4428 - val_loss: 1.3538 - val_acc: 0.5050\n",
            "Epoch 3/20\n",
            "3200/3200 [==============================] - 51s 16ms/step - loss: 1.3346 - acc: 0.4544 - val_loss: 1.3035 - val_acc: 0.4950\n",
            "Epoch 4/20\n",
            "3200/3200 [==============================] - 51s 16ms/step - loss: 1.2877 - acc: 0.4831 - val_loss: 1.2917 - val_acc: 0.4425\n",
            "Epoch 5/20\n",
            "3200/3200 [==============================] - 51s 16ms/step - loss: 1.2654 - acc: 0.4875 - val_loss: 1.2305 - val_acc: 0.5200\n",
            "Epoch 6/20\n",
            "3200/3200 [==============================] - 51s 16ms/step - loss: 1.2398 - acc: 0.4975 - val_loss: 1.2173 - val_acc: 0.5175\n",
            "Epoch 7/20\n",
            "3200/3200 [==============================] - 51s 16ms/step - loss: 1.2080 - acc: 0.5112 - val_loss: 1.2078 - val_acc: 0.5325\n",
            "Epoch 8/20\n",
            "3200/3200 [==============================] - 51s 16ms/step - loss: 1.2037 - acc: 0.5194 - val_loss: 1.3066 - val_acc: 0.4650\n",
            "Epoch 9/20\n",
            "3200/3200 [==============================] - 51s 16ms/step - loss: 1.1886 - acc: 0.5094 - val_loss: 1.1881 - val_acc: 0.5350\n",
            "Epoch 10/20\n",
            "3200/3200 [==============================] - 51s 16ms/step - loss: 1.1807 - acc: 0.5266 - val_loss: 1.2078 - val_acc: 0.5050\n",
            "Epoch 11/20\n",
            "3200/3200 [==============================] - 51s 16ms/step - loss: 1.1804 - acc: 0.5247 - val_loss: 1.1993 - val_acc: 0.5000\n",
            "Epoch 12/20\n",
            "3200/3200 [==============================] - 51s 16ms/step - loss: 1.1635 - acc: 0.5200 - val_loss: 1.1694 - val_acc: 0.5325\n",
            "Epoch 13/20\n",
            "3200/3200 [==============================] - 51s 16ms/step - loss: 1.1502 - acc: 0.5412 - val_loss: 1.2252 - val_acc: 0.4975\n",
            "Epoch 14/20\n",
            "3200/3200 [==============================] - 51s 16ms/step - loss: 1.1507 - acc: 0.5319 - val_loss: 1.2165 - val_acc: 0.5000\n",
            "Epoch 15/20\n",
            "3200/3200 [==============================] - 51s 16ms/step - loss: 1.1318 - acc: 0.5431 - val_loss: 1.1649 - val_acc: 0.5275\n",
            "Epoch 16/20\n",
            "3200/3200 [==============================] - 51s 16ms/step - loss: 1.1352 - acc: 0.5403 - val_loss: 1.1825 - val_acc: 0.5300\n",
            "Epoch 17/20\n",
            "3200/3200 [==============================] - 51s 16ms/step - loss: 1.1097 - acc: 0.5612 - val_loss: 1.2145 - val_acc: 0.5200\n",
            "Epoch 18/20\n",
            "3200/3200 [==============================] - 51s 16ms/step - loss: 1.1167 - acc: 0.5491 - val_loss: 1.1690 - val_acc: 0.5600\n",
            "Epoch 19/20\n",
            "3200/3200 [==============================] - 51s 16ms/step - loss: 1.1126 - acc: 0.5541 - val_loss: 1.1641 - val_acc: 0.5575\n",
            "Epoch 20/20\n",
            "3200/3200 [==============================] - 51s 16ms/step - loss: 1.1122 - acc: 0.5431 - val_loss: 1.1339 - val_acc: 0.5475\n"
          ],
          "name": "stdout"
        }
      ]
    },
    {
      "metadata": {
        "id": "m3n2zf7JiQVn",
        "colab_type": "code",
        "outputId": "d2a89801-226f-47c9-cccd-19abee5d83a7",
        "colab": {
          "base_uri": "https://localhost:8080/",
          "height": 295
        }
      },
      "cell_type": "code",
      "source": [
        "hist = results.history\n",
        "loss_values = hist['loss']\n",
        "val_loss_values = hist['val_loss']\n",
        "acc_values = hist['acc'] \n",
        "val_acc_values = hist['val_acc']\n",
        "\n",
        "epochs = range(1, len(loss_values) + 1)\n",
        "\n",
        "plt.figure(figsize=(15,4))\n",
        "plt.subplot(121)\n",
        "plt.plot(epochs, loss_values, 'g.', label='Training loss')\n",
        "plt.plot(epochs, val_loss_values, 'g', label='Validation loss')\n",
        "\n",
        "plt.title('Training and validation loss')\n",
        "plt.xlabel('Epochs')\n",
        "plt.ylabel('Loss')\n",
        "plt.legend()\n",
        "\n",
        "plt.subplot(122)\n",
        "plt.plot(epochs, acc_values, 'r.', label='Training acc')\n",
        "plt.plot(epochs, val_acc_values, 'r', label='Validation acc')\n",
        "plt.title('Training and validation accuracy')\n",
        "plt.xlabel('Epochs')\n",
        "plt.ylabel('Accuracy')\n",
        "plt.legend()\n",
        "plt.show()"
      ],
      "execution_count": 0,
      "outputs": [
        {
          "output_type": "display_data",
          "data": {
            "image/png": "[encoded data removed]",
            "text/plain": [
              "<Figure size 1080x288 with 2 Axes>"
            ]
          },
          "metadata": {
            "tags": []
          }
        }
      ]
    },
    {
      "metadata": {
        "id": "tu1MEZ60j1fm",
        "colab_type": "code",
        "colab": {}
      },
      "cell_type": "code",
      "source": [
        "model2.save('model2.h5')\n",
        "model2.save_weights('model2_weights.h5')"
      ],
      "execution_count": 0,
      "outputs": []
    },
    {
      "metadata": {
        "id": "D5Rv4RZ9QU_o",
        "colab_type": "code",
        "outputId": "e50b8897-9959-44c6-e669-d43b6039058f",
        "colab": {
          "base_uri": "https://localhost:8080/",
          "height": 52
        }
      },
      "cell_type": "code",
      "source": [
        "model2 = load_model('mod4-models/model2.h5')\n",
        "model2.load_weights('mod4-models/model2_weights.h5')\n",
        "model2.evaluate(x_test, y_test)"
      ],
      "execution_count": 0,
      "outputs": [
        {
          "output_type": "stream",
          "text": [
            "400/400 [==============================] - 5s 14ms/step\n"
          ],
          "name": "stdout"
        },
        {
          "output_type": "execute_result",
          "data": {
            "text/plain": [
              "[1.0894414854049683, 0.5525]"
            ]
          },
          "metadata": {
            "tags": []
          },
          "execution_count": 9
        }
      ]
    },
    {
      "metadata": {
        "id": "8iHG6pLbilMh",
        "colab_type": "text"
      },
      "cell_type": "markdown",
      "source": [
        "## Model 3: VGG + 4 Dense Layers (tanh) + Adam"
      ]
    },
    {
      "metadata": {
        "id": "PPAo4QVhiQYX",
        "colab_type": "code",
        "outputId": "8fbacc98-6396-4db7-afd5-c55982b45f4f",
        "colab": {
          "base_uri": "https://localhost:8080/",
          "height": 72
        }
      },
      "cell_type": "code",
      "source": [
        "\n",
        "base_model=VGG19(weights='imagenet',include_top=False) \n",
        "x=base_model.output\n",
        "x=GlobalAveragePooling2D()(x)\n",
        "x=Dense(1024,activation='tanh')(x)\n",
        "x=Dense(720,activation='tanh')(x)\n",
        "x=Dense(512,activation='tanh')(x)\n",
        "x=Dense(100, activation = 'tanh')(x)\n",
        "preds = Dense(5, activation='softmax')(x)"
      ],
      "execution_count": 0,
      "outputs": [
        {
          "output_type": "stream",
          "text": [
            "Downloading data from https://github.com/fchollet/deep-learning-models/releases/download/v0.1/vgg19_weights_tf_dim_ordering_tf_kernels_notop.h5\n",
            "80142336/80134624 [==============================] - 1s 0us/step\n"
          ],
          "name": "stdout"
        }
      ]
    },
    {
      "metadata": {
        "id": "qwu5-8AXjLUR",
        "colab_type": "code",
        "colab": {}
      },
      "cell_type": "code",
      "source": [
        "model3=Model(inputs=base_model.input,outputs=preds)\n",
        "for layer in model3.layers[:22]:\n",
        "    layer.trainable=False\n",
        "for layer in model3.layers[22:]:\n",
        "    layer.trainable=True\n",
        "model3.compile(optimizer='Adam', loss='categorical_crossentropy', metrics=['acc'])"
      ],
      "execution_count": 0,
      "outputs": []
    },
    {
      "metadata": {
        "id": "lIaXty-ujLXA",
        "colab_type": "code",
        "outputId": "361a2077-9c70-488d-da56-713dc15e6ec0",
        "colab": {
          "base_uri": "https://localhost:8080/",
          "height": 580
        }
      },
      "cell_type": "code",
      "source": [
        "results = model3.fit(x_train, y_train, epochs=15, batch_size=40, validation_data=(x_val, y_val))"
      ],
      "execution_count": 0,
      "outputs": [
        {
          "output_type": "stream",
          "text": [
            "Train on 2000 samples, validate on 250 samples\n",
            "Epoch 1/15\n",
            "2000/2000 [==============================] - 38s 19ms/step - loss: 1.7874 - acc: 0.2685 - val_loss: 1.4713 - val_acc: 0.3720\n",
            "Epoch 2/15\n",
            "2000/2000 [==============================] - 33s 16ms/step - loss: 1.3689 - acc: 0.4035 - val_loss: 1.3073 - val_acc: 0.4480\n",
            "Epoch 3/15\n",
            "2000/2000 [==============================] - 33s 16ms/step - loss: 1.3132 - acc: 0.4400 - val_loss: 1.1830 - val_acc: 0.4960\n",
            "Epoch 4/15\n",
            "2000/2000 [==============================] - 33s 16ms/step - loss: 1.2178 - acc: 0.4905 - val_loss: 1.2363 - val_acc: 0.4760\n",
            "Epoch 5/15\n",
            "2000/2000 [==============================] - 33s 16ms/step - loss: 1.2075 - acc: 0.5010 - val_loss: 1.1917 - val_acc: 0.4960\n",
            "Epoch 6/15\n",
            "2000/2000 [==============================] - 33s 16ms/step - loss: 1.1526 - acc: 0.5320 - val_loss: 1.1678 - val_acc: 0.5160\n",
            "Epoch 7/15\n",
            "2000/2000 [==============================] - 33s 16ms/step - loss: 1.0883 - acc: 0.5560 - val_loss: 1.1197 - val_acc: 0.5720\n",
            "Epoch 8/15\n",
            "2000/2000 [==============================] - 33s 16ms/step - loss: 1.0768 - acc: 0.5725 - val_loss: 1.1236 - val_acc: 0.5160\n",
            "Epoch 9/15\n",
            "2000/2000 [==============================] - 33s 16ms/step - loss: 1.1260 - acc: 0.5540 - val_loss: 1.0973 - val_acc: 0.5880\n",
            "Epoch 10/15\n",
            "2000/2000 [==============================] - 33s 16ms/step - loss: 1.0399 - acc: 0.5965 - val_loss: 1.0585 - val_acc: 0.6000\n",
            "Epoch 11/15\n",
            "2000/2000 [==============================] - 33s 16ms/step - loss: 1.0251 - acc: 0.6045 - val_loss: 1.0384 - val_acc: 0.5600\n",
            "Epoch 12/15\n",
            "2000/2000 [==============================] - 33s 16ms/step - loss: 0.9849 - acc: 0.6165 - val_loss: 1.0094 - val_acc: 0.6000\n",
            "Epoch 13/15\n",
            "2000/2000 [==============================] - 33s 16ms/step - loss: 1.0020 - acc: 0.6095 - val_loss: 1.0324 - val_acc: 0.5880\n",
            "Epoch 14/15\n",
            "2000/2000 [==============================] - 33s 16ms/step - loss: 0.9731 - acc: 0.6240 - val_loss: 1.1167 - val_acc: 0.5840\n",
            "Epoch 15/15\n",
            "2000/2000 [==============================] - 33s 16ms/step - loss: 0.9477 - acc: 0.6325 - val_loss: 1.2371 - val_acc: 0.5560\n"
          ],
          "name": "stdout"
        }
      ]
    },
    {
      "metadata": {
        "id": "BnveLYmhRatz",
        "colab_type": "code",
        "outputId": "a6a15e5c-4fc7-4b03-9c1b-b54ff212a7df",
        "colab": {
          "base_uri": "https://localhost:8080/",
          "height": 295
        }
      },
      "cell_type": "code",
      "source": [
        "hist = results.history\n",
        "loss_values = hist['loss']\n",
        "val_loss_values = hist['val_loss']\n",
        "acc_values = hist['acc'] \n",
        "val_acc_values = hist['val_acc']\n",
        "\n",
        "epochs = range(1, len(loss_values) + 1)\n",
        "\n",
        "plt.figure(figsize=(15,4))\n",
        "plt.subplot(121)\n",
        "plt.plot(epochs, loss_values, 'g.', label='Training loss')\n",
        "plt.plot(epochs, val_loss_values, 'g', label='Validation loss')\n",
        "\n",
        "plt.title('Training and validation loss')\n",
        "plt.xlabel('Epochs')\n",
        "plt.ylabel('Loss')\n",
        "plt.legend()\n",
        "\n",
        "plt.subplot(122)\n",
        "plt.plot(epochs, acc_values, 'r.', label='Training acc')\n",
        "plt.plot(epochs, val_acc_values, 'r', label='Validation acc')\n",
        "plt.title('Training and validation accuracy')\n",
        "plt.xlabel('Epochs')\n",
        "plt.ylabel('Accuracy')\n",
        "plt.legend()\n",
        "plt.show()"
      ],
      "execution_count": 0,
      "outputs": [
        {
          "output_type": "display_data",
          "data": {
            "image/png": "[encoded data removed]",
            "text/plain": [
              "<Figure size 1080x288 with 2 Axes>"
            ]
          },
          "metadata": {
            "tags": []
          }
        }
      ]
    },
    {
      "metadata": {
        "id": "DzgnFBe8jLbb",
        "colab_type": "code",
        "colab": {}
      },
      "cell_type": "code",
      "source": [
        "model3.save('model3.h5')\n",
        "model3.save_weights('model3_weights.h5')"
      ],
      "execution_count": 0,
      "outputs": []
    },
    {
      "metadata": {
        "id": "SweHaarZjLee",
        "colab_type": "code",
        "outputId": "6c558da9-39e1-4334-9d88-8048b9cb36da",
        "colab": {
          "base_uri": "https://localhost:8080/",
          "height": 52
        }
      },
      "cell_type": "code",
      "source": [
        "model3 = load_model('mod4-models/model3.h5')\n",
        "model3.load_weights('mod4-models/model3_weights.h5')\n",
        "model3.evaluate(x_test, y_test)"
      ],
      "execution_count": 0,
      "outputs": [
        {
          "output_type": "stream",
          "text": [
            "400/400 [==============================] - 5s 14ms/step\n"
          ],
          "name": "stdout"
        },
        {
          "output_type": "execute_result",
          "data": {
            "text/plain": [
              "[1.0027569484710694, 0.6125]"
            ]
          },
          "metadata": {
            "tags": []
          },
          "execution_count": 10
        }
      ]
    },
    {
      "metadata": {
        "id": "JnPKghdUZ-1W",
        "colab_type": "code",
        "colab": {}
      },
      "cell_type": "code",
      "source": [
        ""
      ],
      "execution_count": 0,
      "outputs": []
    },
    {
      "metadata": {
        "id": "q-_NjJ-_aAuF",
        "colab_type": "text"
      },
      "cell_type": "markdown",
      "source": [
        "## Model 4: VGG + 4 Dense Layers (relu) + Adam"
      ]
    },
    {
      "metadata": {
        "id": "UPomPmCKZ-46",
        "colab_type": "code",
        "colab": {}
      },
      "cell_type": "code",
      "source": [
        "base_model=VGG19(weights='imagenet',include_top=False)\n",
        "x=base_model.output\n",
        "x=GlobalAveragePooling2D()(x)\n",
        "x=Dense(1024,activation='relu')(x)\n",
        "x=Dense(720,activation='relu')(x)\n",
        "x=Dense(512,activation='relu')(x)\n",
        "x=Dense(100, activation = 'relu')(x)\n",
        "preds = Dense(5, activation='softmax')(x)"
      ],
      "execution_count": 0,
      "outputs": []
    },
    {
      "metadata": {
        "id": "rrQfjXBnjLjU",
        "colab_type": "code",
        "colab": {}
      },
      "cell_type": "code",
      "source": [
        "model4=Model(inputs=base_model.input,outputs=preds)\n",
        "for layer in model4.layers[:22]:\n",
        "    layer.trainable=False\n",
        "for layer in model4.layers[22:]:\n",
        "    layer.trainable=True\n",
        "model4.compile(optimizer='Adam', loss='categorical_crossentropy', metrics=['acc'])"
      ],
      "execution_count": 0,
      "outputs": []
    },
    {
      "metadata": {
        "id": "d5UUVWJBjLhZ",
        "colab_type": "code",
        "outputId": "aec6f40e-975f-48da-9a5f-f47ed7481916",
        "colab": {
          "base_uri": "https://localhost:8080/",
          "height": 580
        }
      },
      "cell_type": "code",
      "source": [
        "results = model4.fit(x_train, y_train, epochs=15, batch_size=40, validation_data=(x_val, y_val))"
      ],
      "execution_count": 0,
      "outputs": [
        {
          "output_type": "stream",
          "text": [
            "Train on 2000 samples, validate on 250 samples\n",
            "Epoch 1/15\n",
            "2000/2000 [==============================] - 33s 17ms/step - loss: 1.3852 - acc: 0.3990 - val_loss: 1.1949 - val_acc: 0.5120\n",
            "Epoch 2/15\n",
            "2000/2000 [==============================] - 32s 16ms/step - loss: 1.2151 - acc: 0.4940 - val_loss: 1.1160 - val_acc: 0.5080\n",
            "Epoch 3/15\n",
            "2000/2000 [==============================] - 32s 16ms/step - loss: 1.1735 - acc: 0.5110 - val_loss: 1.1292 - val_acc: 0.4920\n",
            "Epoch 4/15\n",
            "2000/2000 [==============================] - 32s 16ms/step - loss: 1.1389 - acc: 0.5310 - val_loss: 1.1048 - val_acc: 0.5160\n",
            "Epoch 5/15\n",
            "2000/2000 [==============================] - 32s 16ms/step - loss: 1.0697 - acc: 0.5625 - val_loss: 1.0922 - val_acc: 0.5560\n",
            "Epoch 6/15\n",
            "2000/2000 [==============================] - 32s 16ms/step - loss: 1.0611 - acc: 0.5705 - val_loss: 1.0516 - val_acc: 0.5720\n",
            "Epoch 7/15\n",
            "2000/2000 [==============================] - 32s 16ms/step - loss: 1.0541 - acc: 0.5860 - val_loss: 1.1854 - val_acc: 0.5080\n",
            "Epoch 8/15\n",
            "2000/2000 [==============================] - 32s 16ms/step - loss: 1.0182 - acc: 0.5900 - val_loss: 1.0611 - val_acc: 0.5560\n",
            "Epoch 9/15\n",
            "2000/2000 [==============================] - 32s 16ms/step - loss: 0.9533 - acc: 0.6200 - val_loss: 1.0558 - val_acc: 0.5920\n",
            "Epoch 10/15\n",
            "2000/2000 [==============================] - 32s 16ms/step - loss: 0.9424 - acc: 0.6320 - val_loss: 1.0921 - val_acc: 0.5440\n",
            "Epoch 11/15\n",
            "2000/2000 [==============================] - 32s 16ms/step - loss: 0.9124 - acc: 0.6530 - val_loss: 1.0042 - val_acc: 0.5920\n",
            "Epoch 12/15\n",
            "2000/2000 [==============================] - 32s 16ms/step - loss: 0.9053 - acc: 0.6440 - val_loss: 1.0213 - val_acc: 0.6280\n",
            "Epoch 13/15\n",
            "2000/2000 [==============================] - 32s 16ms/step - loss: 0.8337 - acc: 0.6770 - val_loss: 0.9864 - val_acc: 0.6120\n",
            "Epoch 14/15\n",
            "2000/2000 [==============================] - 32s 16ms/step - loss: 0.8461 - acc: 0.6770 - val_loss: 0.9776 - val_acc: 0.5840\n",
            "Epoch 15/15\n",
            "2000/2000 [==============================] - 32s 16ms/step - loss: 0.8140 - acc: 0.6715 - val_loss: 1.2216 - val_acc: 0.5640\n"
          ],
          "name": "stdout"
        }
      ]
    },
    {
      "metadata": {
        "id": "Y_Nb46EQRYAB",
        "colab_type": "code",
        "outputId": "3020ea63-1f2b-4df5-9248-d2d13b6e1340",
        "colab": {
          "base_uri": "https://localhost:8080/",
          "height": 295
        }
      },
      "cell_type": "code",
      "source": [
        "hist = results.history\n",
        "loss_values = hist['loss']\n",
        "val_loss_values = hist['val_loss']\n",
        "acc_values = hist['acc'] \n",
        "val_acc_values = hist['val_acc']\n",
        "\n",
        "epochs = range(1, len(loss_values) + 1)\n",
        "\n",
        "plt.figure(figsize=(15,4))\n",
        "plt.subplot(121)\n",
        "plt.plot(epochs, loss_values, 'g.', label='Training loss')\n",
        "plt.plot(epochs, val_loss_values, 'g', label='Validation loss')\n",
        "\n",
        "plt.title('Training and validation loss')\n",
        "plt.xlabel('Epochs')\n",
        "plt.ylabel('Loss')\n",
        "plt.legend()\n",
        "\n",
        "plt.subplot(122)\n",
        "plt.plot(epochs, acc_values, 'r.', label='Training acc')\n",
        "plt.plot(epochs, val_acc_values, 'r', label='Validation acc')\n",
        "plt.title('Training and validation accuracy')\n",
        "plt.xlabel('Epochs')\n",
        "plt.ylabel('Accuracy')\n",
        "plt.legend()\n",
        "plt.show()"
      ],
      "execution_count": 0,
      "outputs": [
        {
          "output_type": "display_data",
          "data": {
            "image/png": "[encoded data removed]",
            "text/plain": [
              "<Figure size 1080x288 with 2 Axes>"
            ]
          },
          "metadata": {
            "tags": []
          }
        }
      ]
    },
    {
      "metadata": {
        "id": "iJB-cbb1jLZs",
        "colab_type": "code",
        "colab": {}
      },
      "cell_type": "code",
      "source": [
        "model4.save('model4.h5')\n",
        "model4.save_weights('model4_weights.h5')"
      ],
      "execution_count": 0,
      "outputs": []
    },
    {
      "metadata": {
        "id": "jMWGBmrIQvqM",
        "colab_type": "code",
        "outputId": "6996e3eb-eeb6-443e-8362-64346398e2c1",
        "colab": {
          "base_uri": "https://localhost:8080/",
          "height": 52
        }
      },
      "cell_type": "code",
      "source": [
        "model4 = load_model('mod4-models/model4.h5')\n",
        "model4.load_weights('mod4-models/model4_weights.h5')\n",
        "model4.evaluate(x_test, y_test)"
      ],
      "execution_count": 0,
      "outputs": [
        {
          "output_type": "stream",
          "text": [
            "400/400 [==============================] - 5s 14ms/step\n"
          ],
          "name": "stdout"
        },
        {
          "output_type": "execute_result",
          "data": {
            "text/plain": [
              "[0.8303185272216796, 0.68]"
            ]
          },
          "metadata": {
            "tags": []
          },
          "execution_count": 11
        }
      ]
    },
    {
      "metadata": {
        "id": "rlFEqdtejMX8",
        "colab_type": "text"
      },
      "cell_type": "markdown",
      "source": [
        "# Archive"
      ]
    },
    {
      "metadata": {
        "id": "ojiypGPpYHwU",
        "colab_type": "code",
        "colab": {}
      },
      "cell_type": "code",
      "source": [
        "model = models.Sequential()\n",
        "model.add(layers.Conv2D(128, (5, 5), strides =5, padding='SAME', activation='tanh', input_shape=(256,256,3)))\n",
        "\n",
        "model.add(layers.Conv2D(64, (5, 5), strides =5, padding='SAME', activation='tanh'))\n",
        "model.add(layers.MaxPooling2D((2, 2)))\n",
        "\n",
        "model.add(layers.Conv2D(32, (3, 3), activation='tanh'))\n",
        "model.add(layers.MaxPooling2D((2, 2)))\n",
        "\n",
        "model.add(layers.Flatten())\n",
        "model.add(layers.Dense(64, activation='relu'))\n",
        "model.add(layers.Dense(5, activation='softmax'))\n",
        "\n",
        "model.compile(loss='categorical_crossentropy',\n",
        "              optimizer=Adam(0.1),\n",
        "              metrics=['acc'])"
      ],
      "execution_count": 0,
      "outputs": []
    },
    {
      "metadata": {
        "id": "xPgeZQ60YZBx",
        "colab_type": "code",
        "colab": {}
      },
      "cell_type": "code",
      "source": [
        "history = model.fit(x_train, y_train, epochs=30, batch_size=30, validation_data=(x_val, y_val))"
      ],
      "execution_count": 0,
      "outputs": []
    },
    {
      "metadata": {
        "id": "URtt7eVGdBr8",
        "colab_type": "code",
        "colab": {}
      },
      "cell_type": "code",
      "source": [
        "model2 = models.Sequential()\n",
        "model2.add(layers.Conv2D(16, (5, 5), strides =5, padding='SAME', activation='tanh', input_shape=(256,256,3)))\n",
        "\n",
        "model2.add(layers.Conv2D(32, (5, 5), strides =5, padding='SAME', activation='tanh'))\n",
        "model2.add(layers.MaxPooling2D((2, 2)))\n",
        "\n",
        "model2.add(layers.Conv2D(64, (3, 3), activation='tanh'))\n",
        "model2.add(layers.MaxPooling2D((2, 2)))\n",
        "\n",
        "model2.add(layers.Flatten())\n",
        "model2.add(layers.Dense(64, activation='relu'))\n",
        "model2.add(layers.Dense(5, activation='softmax'))\n",
        "\n",
        "model2.compile(loss='categorical_crossentropy',\n",
        "              optimizer=\"sgd\",\n",
        "              metrics=['acc'])"
      ],
      "execution_count": 0,
      "outputs": []
    },
    {
      "metadata": {
        "id": "96mfXiKTgdPp",
        "colab_type": "code",
        "outputId": "3c2e5bd7-8457-4fe3-d7a1-79d90124595d",
        "colab": {
          "base_uri": "https://localhost:8080/",
          "height": 3434
        }
      },
      "cell_type": "code",
      "source": [
        "history = model2.fit(x_train, y_train, epochs=100, batch_size=50, validation_data=(x_val, y_val))"
      ],
      "execution_count": 0,
      "outputs": [
        {
          "output_type": "stream",
          "text": [
            "Train on 2000 samples, validate on 250 samples\n",
            "Epoch 1/100\n",
            "2000/2000 [==============================] - 2s 1ms/step - loss: 1.6053 - acc: 0.2005 - val_loss: 1.6019 - val_acc: 0.2040\n",
            "Epoch 2/100\n",
            "2000/2000 [==============================] - 2s 882us/step - loss: 1.6000 - acc: 0.2320 - val_loss: 1.5980 - val_acc: 0.2440\n",
            "Epoch 3/100\n",
            "2000/2000 [==============================] - 2s 876us/step - loss: 1.5971 - acc: 0.2630 - val_loss: 1.5964 - val_acc: 0.2320\n",
            "Epoch 4/100\n",
            "2000/2000 [==============================] - 2s 878us/step - loss: 1.5936 - acc: 0.2495 - val_loss: 1.5925 - val_acc: 0.2680\n",
            "Epoch 5/100\n",
            "2000/2000 [==============================] - 2s 906us/step - loss: 1.5905 - acc: 0.2675 - val_loss: 1.5955 - val_acc: 0.2560\n",
            "Epoch 6/100\n",
            "2000/2000 [==============================] - 2s 895us/step - loss: 1.5896 - acc: 0.2805 - val_loss: 1.5903 - val_acc: 0.2400\n",
            "Epoch 7/100\n",
            "2000/2000 [==============================] - 2s 883us/step - loss: 1.5853 - acc: 0.2850 - val_loss: 1.5886 - val_acc: 0.2520\n",
            "Epoch 8/100\n",
            "2000/2000 [==============================] - 2s 892us/step - loss: 1.5835 - acc: 0.2855 - val_loss: 1.5834 - val_acc: 0.3200\n",
            "Epoch 9/100\n",
            "2000/2000 [==============================] - 2s 872us/step - loss: 1.5805 - acc: 0.3025 - val_loss: 1.5815 - val_acc: 0.2880\n",
            "Epoch 10/100\n",
            "2000/2000 [==============================] - 2s 888us/step - loss: 1.5787 - acc: 0.3080 - val_loss: 1.5796 - val_acc: 0.3080\n",
            "Epoch 11/100\n",
            "2000/2000 [==============================] - 2s 872us/step - loss: 1.5742 - acc: 0.3265 - val_loss: 1.5759 - val_acc: 0.3120\n",
            "Epoch 12/100\n",
            "2000/2000 [==============================] - 2s 870us/step - loss: 1.5710 - acc: 0.3180 - val_loss: 1.5736 - val_acc: 0.3120\n",
            "Epoch 13/100\n",
            "2000/2000 [==============================] - 2s 874us/step - loss: 1.5684 - acc: 0.3140 - val_loss: 1.5702 - val_acc: 0.3320\n",
            "Epoch 14/100\n",
            "2000/2000 [==============================] - 2s 864us/step - loss: 1.5658 - acc: 0.3320 - val_loss: 1.5696 - val_acc: 0.3080\n",
            "Epoch 15/100\n",
            "2000/2000 [==============================] - 2s 879us/step - loss: 1.5618 - acc: 0.3285 - val_loss: 1.5659 - val_acc: 0.3120\n",
            "Epoch 16/100\n",
            "2000/2000 [==============================] - 2s 884us/step - loss: 1.5581 - acc: 0.3325 - val_loss: 1.5663 - val_acc: 0.3200\n",
            "Epoch 17/100\n",
            "2000/2000 [==============================] - 2s 899us/step - loss: 1.5546 - acc: 0.3330 - val_loss: 1.5606 - val_acc: 0.3240\n",
            "Epoch 18/100\n",
            "2000/2000 [==============================] - 2s 890us/step - loss: 1.5526 - acc: 0.3375 - val_loss: 1.5566 - val_acc: 0.3520\n",
            "Epoch 19/100\n",
            "2000/2000 [==============================] - 2s 877us/step - loss: 1.5477 - acc: 0.3505 - val_loss: 1.5528 - val_acc: 0.3360\n",
            "Epoch 20/100\n",
            "2000/2000 [==============================] - 2s 873us/step - loss: 1.5443 - acc: 0.3500 - val_loss: 1.5502 - val_acc: 0.3000\n",
            "Epoch 21/100\n",
            "2000/2000 [==============================] - 2s 875us/step - loss: 1.5416 - acc: 0.3475 - val_loss: 1.5470 - val_acc: 0.3320\n",
            "Epoch 22/100\n",
            "2000/2000 [==============================] - 2s 871us/step - loss: 1.5366 - acc: 0.3655 - val_loss: 1.5426 - val_acc: 0.3200\n",
            "Epoch 23/100\n",
            "2000/2000 [==============================] - 2s 875us/step - loss: 1.5333 - acc: 0.3580 - val_loss: 1.5470 - val_acc: 0.3200\n",
            "Epoch 24/100\n",
            "2000/2000 [==============================] - 2s 909us/step - loss: 1.5283 - acc: 0.3555 - val_loss: 1.5369 - val_acc: 0.3360\n",
            "Epoch 25/100\n",
            "2000/2000 [==============================] - 2s 882us/step - loss: 1.5234 - acc: 0.3620 - val_loss: 1.5335 - val_acc: 0.3560\n",
            "Epoch 26/100\n",
            "2000/2000 [==============================] - 2s 870us/step - loss: 1.5188 - acc: 0.3730 - val_loss: 1.5294 - val_acc: 0.3480\n",
            "Epoch 27/100\n",
            "2000/2000 [==============================] - 2s 862us/step - loss: 1.5164 - acc: 0.3720 - val_loss: 1.5233 - val_acc: 0.3600\n",
            "Epoch 28/100\n",
            "2000/2000 [==============================] - 2s 848us/step - loss: 1.5093 - acc: 0.3785 - val_loss: 1.5274 - val_acc: 0.3200\n",
            "Epoch 29/100\n",
            "2000/2000 [==============================] - 2s 901us/step - loss: 1.5051 - acc: 0.3880 - val_loss: 1.5216 - val_acc: 0.3320\n",
            "Epoch 30/100\n",
            "2000/2000 [==============================] - 2s 878us/step - loss: 1.5012 - acc: 0.3800 - val_loss: 1.5139 - val_acc: 0.3520\n",
            "Epoch 31/100\n",
            "2000/2000 [==============================] - 2s 874us/step - loss: 1.4970 - acc: 0.3895 - val_loss: 1.5140 - val_acc: 0.3360\n",
            "Epoch 32/100\n",
            "2000/2000 [==============================] - 2s 883us/step - loss: 1.4927 - acc: 0.3920 - val_loss: 1.5084 - val_acc: 0.3560\n",
            "Epoch 33/100\n",
            "2000/2000 [==============================] - 2s 879us/step - loss: 1.4872 - acc: 0.3840 - val_loss: 1.5160 - val_acc: 0.3560\n",
            "Epoch 34/100\n",
            "2000/2000 [==============================] - 2s 873us/step - loss: 1.4847 - acc: 0.3880 - val_loss: 1.4988 - val_acc: 0.3480\n",
            "Epoch 35/100\n",
            "2000/2000 [==============================] - 2s 847us/step - loss: 1.4775 - acc: 0.3900 - val_loss: 1.4963 - val_acc: 0.3280\n",
            "Epoch 36/100\n",
            "2000/2000 [==============================] - 2s 876us/step - loss: 1.4739 - acc: 0.3960 - val_loss: 1.4896 - val_acc: 0.3520\n",
            "Epoch 37/100\n",
            "2000/2000 [==============================] - 2s 873us/step - loss: 1.4673 - acc: 0.3935 - val_loss: 1.4912 - val_acc: 0.3400\n",
            "Epoch 38/100\n",
            "2000/2000 [==============================] - 2s 873us/step - loss: 1.4621 - acc: 0.3965 - val_loss: 1.4827 - val_acc: 0.3560\n",
            "Epoch 39/100\n",
            "2000/2000 [==============================] - 2s 844us/step - loss: 1.4582 - acc: 0.3945 - val_loss: 1.5056 - val_acc: 0.3240\n",
            "Epoch 40/100\n",
            "2000/2000 [==============================] - 2s 875us/step - loss: 1.4585 - acc: 0.3990 - val_loss: 1.4864 - val_acc: 0.3640\n",
            "Epoch 41/100\n",
            "2000/2000 [==============================] - 2s 858us/step - loss: 1.4490 - acc: 0.4095 - val_loss: 1.4787 - val_acc: 0.3480\n",
            "Epoch 42/100\n",
            "2000/2000 [==============================] - 2s 891us/step - loss: 1.4420 - acc: 0.4145 - val_loss: 1.4777 - val_acc: 0.3640\n",
            "Epoch 43/100\n",
            "2000/2000 [==============================] - 2s 880us/step - loss: 1.4383 - acc: 0.4075 - val_loss: 1.4757 - val_acc: 0.3400\n",
            "Epoch 44/100\n",
            "2000/2000 [==============================] - 2s 870us/step - loss: 1.4330 - acc: 0.4205 - val_loss: 1.4673 - val_acc: 0.3560\n",
            "Epoch 45/100\n",
            "2000/2000 [==============================] - 2s 828us/step - loss: 1.4337 - acc: 0.4145 - val_loss: 1.4728 - val_acc: 0.3360\n",
            "Epoch 46/100\n",
            "2000/2000 [==============================] - 2s 760us/step - loss: 1.4276 - acc: 0.4215 - val_loss: 1.4682 - val_acc: 0.3560\n",
            "Epoch 47/100\n",
            "2000/2000 [==============================] - 2s 756us/step - loss: 1.4230 - acc: 0.4185 - val_loss: 1.4607 - val_acc: 0.3600\n",
            "Epoch 48/100\n",
            "2000/2000 [==============================] - 2s 770us/step - loss: 1.4141 - acc: 0.4145 - val_loss: 1.5036 - val_acc: 0.3360\n",
            "Epoch 49/100\n",
            "2000/2000 [==============================] - 2s 767us/step - loss: 1.4098 - acc: 0.4240 - val_loss: 1.4514 - val_acc: 0.3480\n",
            "Epoch 50/100\n",
            "2000/2000 [==============================] - 2s 791us/step - loss: 1.4064 - acc: 0.4225 - val_loss: 1.4492 - val_acc: 0.3760\n",
            "Epoch 51/100\n",
            "2000/2000 [==============================] - 2s 778us/step - loss: 1.3993 - acc: 0.4170 - val_loss: 1.4502 - val_acc: 0.3720\n",
            "Epoch 52/100\n",
            "2000/2000 [==============================] - 2s 769us/step - loss: 1.3991 - acc: 0.4360 - val_loss: 1.4474 - val_acc: 0.3640\n",
            "Epoch 53/100\n",
            "2000/2000 [==============================] - 2s 769us/step - loss: 1.3884 - acc: 0.4345 - val_loss: 1.4516 - val_acc: 0.3920\n",
            "Epoch 54/100\n",
            "2000/2000 [==============================] - 2s 774us/step - loss: 1.3892 - acc: 0.4295 - val_loss: 1.4447 - val_acc: 0.3720\n",
            "Epoch 55/100\n",
            "2000/2000 [==============================] - 2s 764us/step - loss: 1.3799 - acc: 0.4425 - val_loss: 1.4386 - val_acc: 0.3840\n",
            "Epoch 56/100\n",
            "2000/2000 [==============================] - 2s 760us/step - loss: 1.3759 - acc: 0.4410 - val_loss: 1.4469 - val_acc: 0.3880\n",
            "Epoch 57/100\n",
            "2000/2000 [==============================] - 2s 765us/step - loss: 1.3703 - acc: 0.4495 - val_loss: 1.4673 - val_acc: 0.3680\n",
            "Epoch 58/100\n",
            "2000/2000 [==============================] - 2s 765us/step - loss: 1.3638 - acc: 0.4530 - val_loss: 1.4464 - val_acc: 0.3960\n",
            "Epoch 59/100\n",
            "2000/2000 [==============================] - 2s 761us/step - loss: 1.3688 - acc: 0.4375 - val_loss: 1.4416 - val_acc: 0.3840\n",
            "Epoch 60/100\n",
            "2000/2000 [==============================] - 2s 758us/step - loss: 1.3517 - acc: 0.4525 - val_loss: 1.4432 - val_acc: 0.3920\n",
            "Epoch 61/100\n",
            "2000/2000 [==============================] - 2s 761us/step - loss: 1.3481 - acc: 0.4555 - val_loss: 1.4518 - val_acc: 0.3680\n",
            "Epoch 62/100\n",
            "2000/2000 [==============================] - 2s 766us/step - loss: 1.3478 - acc: 0.4565 - val_loss: 1.4382 - val_acc: 0.3800\n",
            "Epoch 63/100\n",
            "2000/2000 [==============================] - 2s 757us/step - loss: 1.3401 - acc: 0.4620 - val_loss: 1.4378 - val_acc: 0.3920\n",
            "Epoch 64/100\n",
            "2000/2000 [==============================] - 2s 757us/step - loss: 1.3306 - acc: 0.4585 - val_loss: 1.4328 - val_acc: 0.3960\n",
            "Epoch 65/100\n",
            "2000/2000 [==============================] - 2s 757us/step - loss: 1.3239 - acc: 0.4700 - val_loss: 1.4317 - val_acc: 0.4000\n",
            "Epoch 66/100\n",
            "2000/2000 [==============================] - 2s 762us/step - loss: 1.3278 - acc: 0.4700 - val_loss: 1.4306 - val_acc: 0.4040\n",
            "Epoch 67/100\n",
            "2000/2000 [==============================] - 2s 763us/step - loss: 1.3139 - acc: 0.4735 - val_loss: 1.4433 - val_acc: 0.3960\n",
            "Epoch 68/100\n",
            "2000/2000 [==============================] - 2s 776us/step - loss: 1.3078 - acc: 0.4765 - val_loss: 1.4236 - val_acc: 0.4000\n",
            "Epoch 69/100\n",
            "2000/2000 [==============================] - 2s 767us/step - loss: 1.3031 - acc: 0.4735 - val_loss: 1.4282 - val_acc: 0.3960\n",
            "Epoch 70/100\n",
            "2000/2000 [==============================] - 2s 762us/step - loss: 1.2989 - acc: 0.4940 - val_loss: 1.4310 - val_acc: 0.3920\n",
            "Epoch 71/100\n",
            "2000/2000 [==============================] - 2s 765us/step - loss: 1.2910 - acc: 0.4870 - val_loss: 1.4451 - val_acc: 0.3640\n",
            "Epoch 72/100\n",
            "2000/2000 [==============================] - 2s 782us/step - loss: 1.2913 - acc: 0.4910 - val_loss: 1.4411 - val_acc: 0.3600\n",
            "Epoch 73/100\n",
            "2000/2000 [==============================] - 2s 775us/step - loss: 1.2807 - acc: 0.4975 - val_loss: 1.4467 - val_acc: 0.3720\n",
            "Epoch 74/100\n",
            "2000/2000 [==============================] - 2s 784us/step - loss: 1.2681 - acc: 0.5070 - val_loss: 1.4341 - val_acc: 0.3760\n",
            "Epoch 75/100\n",
            "2000/2000 [==============================] - 2s 772us/step - loss: 1.2664 - acc: 0.5080 - val_loss: 1.4249 - val_acc: 0.3880\n",
            "Epoch 76/100\n",
            "2000/2000 [==============================] - 2s 775us/step - loss: 1.2582 - acc: 0.5130 - val_loss: 1.4279 - val_acc: 0.3760\n",
            "Epoch 77/100\n",
            "2000/2000 [==============================] - 2s 763us/step - loss: 1.2548 - acc: 0.5060 - val_loss: 1.4332 - val_acc: 0.3640\n",
            "Epoch 78/100\n",
            "2000/2000 [==============================] - 2s 775us/step - loss: 1.2401 - acc: 0.5170 - val_loss: 1.4356 - val_acc: 0.3960\n",
            "Epoch 79/100\n",
            "2000/2000 [==============================] - 2s 766us/step - loss: 1.2404 - acc: 0.5135 - val_loss: 1.4329 - val_acc: 0.3720\n",
            "Epoch 80/100\n",
            "2000/2000 [==============================] - 2s 761us/step - loss: 1.2305 - acc: 0.5115 - val_loss: 1.4195 - val_acc: 0.4000\n",
            "Epoch 81/100\n",
            "2000/2000 [==============================] - 2s 775us/step - loss: 1.2173 - acc: 0.5290 - val_loss: 1.4232 - val_acc: 0.3960\n",
            "Epoch 82/100\n",
            "2000/2000 [==============================] - 2s 761us/step - loss: 1.2121 - acc: 0.5265 - val_loss: 1.4253 - val_acc: 0.3720\n",
            "Epoch 83/100\n",
            "2000/2000 [==============================] - 2s 761us/step - loss: 1.2062 - acc: 0.5280 - val_loss: 1.4343 - val_acc: 0.3960\n",
            "Epoch 84/100\n",
            "2000/2000 [==============================] - 2s 765us/step - loss: 1.1984 - acc: 0.5355 - val_loss: 1.4627 - val_acc: 0.3680\n",
            "Epoch 85/100\n",
            "2000/2000 [==============================] - 2s 767us/step - loss: 1.1932 - acc: 0.5470 - val_loss: 1.4498 - val_acc: 0.3640\n",
            "Epoch 86/100\n",
            "2000/2000 [==============================] - 2s 779us/step - loss: 1.1836 - acc: 0.5425 - val_loss: 1.4349 - val_acc: 0.3840\n",
            "Epoch 87/100\n",
            "2000/2000 [==============================] - 2s 778us/step - loss: 1.1823 - acc: 0.5450 - val_loss: 1.4340 - val_acc: 0.3800\n",
            "Epoch 88/100\n",
            "2000/2000 [==============================] - 2s 780us/step - loss: 1.1620 - acc: 0.5525 - val_loss: 1.4331 - val_acc: 0.3960\n",
            "Epoch 89/100\n",
            "2000/2000 [==============================] - 2s 777us/step - loss: 1.1548 - acc: 0.5640 - val_loss: 1.4534 - val_acc: 0.3520\n",
            "Epoch 90/100\n",
            "2000/2000 [==============================] - 2s 782us/step - loss: 1.1415 - acc: 0.5625 - val_loss: 1.4215 - val_acc: 0.3840\n",
            "Epoch 91/100\n",
            "2000/2000 [==============================] - 2s 774us/step - loss: 1.1379 - acc: 0.5665 - val_loss: 1.4639 - val_acc: 0.3920\n",
            "Epoch 92/100\n",
            "2000/2000 [==============================] - 2s 778us/step - loss: 1.1313 - acc: 0.5720 - val_loss: 1.4346 - val_acc: 0.3840\n",
            "Epoch 93/100\n",
            "2000/2000 [==============================] - 2s 770us/step - loss: 1.1140 - acc: 0.5770 - val_loss: 1.4343 - val_acc: 0.3720\n",
            "Epoch 94/100\n",
            "2000/2000 [==============================] - 2s 771us/step - loss: 1.1040 - acc: 0.5840 - val_loss: 1.4390 - val_acc: 0.3760\n",
            "Epoch 95/100\n",
            "2000/2000 [==============================] - 2s 770us/step - loss: 1.0943 - acc: 0.5955 - val_loss: 1.4626 - val_acc: 0.3800\n",
            "Epoch 96/100\n",
            "2000/2000 [==============================] - 2s 771us/step - loss: 1.0808 - acc: 0.5945 - val_loss: 1.4652 - val_acc: 0.3480\n",
            "Epoch 97/100\n",
            "2000/2000 [==============================] - 2s 761us/step - loss: 1.0765 - acc: 0.6045 - val_loss: 1.4315 - val_acc: 0.3880\n",
            "Epoch 98/100\n",
            "2000/2000 [==============================] - 2s 756us/step - loss: 1.0779 - acc: 0.6070 - val_loss: 1.4731 - val_acc: 0.3760\n",
            "Epoch 99/100\n",
            "2000/2000 [==============================] - 2s 773us/step - loss: 1.0572 - acc: 0.6240 - val_loss: 1.4654 - val_acc: 0.3720\n",
            "Epoch 100/100\n",
            "2000/2000 [==============================] - 2s 762us/step - loss: 1.0460 - acc: 0.6215 - val_loss: 1.4563 - val_acc: 0.3680\n"
          ],
          "name": "stdout"
        }
      ]
    },
    {
      "metadata": {
        "id": "jlfiCuFXggwH",
        "colab_type": "code",
        "outputId": "72b5e25d-ccf2-4de2-d4b2-43aa49d0d79f",
        "colab": {
          "base_uri": "https://localhost:8080/",
          "height": 71
        }
      },
      "cell_type": "code",
      "source": [
        "results_train = model2.evaluate(x_train, y_train)\n",
        "results_test = model2.evaluate(x_test, y_test)\n",
        "print(results_train, results_test)"
      ],
      "execution_count": 0,
      "outputs": [
        {
          "output_type": "stream",
          "text": [
            "4000/4000 [==============================] - 2s 609us/step\n",
            "500/500 [==============================] - 0s 594us/step\n",
            "[0.6936997840404511, 0.79025] [1.5094636135101318, 0.4199999997615814]\n"
          ],
          "name": "stdout"
        }
      ]
    },
    {
      "metadata": {
        "id": "dMp-7oeoiKvC",
        "colab_type": "code",
        "colab": {}
      },
      "cell_type": "code",
      "source": [
        "model3 = models.Sequential()\n",
        "model3.add(layers.Conv2D(16, (5, 5), strides =5, padding='SAME', activation='tanh', input_shape=(256,256,3)))\n",
        "\n",
        "model3.add(layers.Conv2D(32, (5, 5), strides =5, padding='SAME', activation='tanh'))\n",
        "\n",
        "model3.add(layers.Conv2D(64, (3, 3), activation='tanh'))\n",
        "model3.add(layers.MaxPooling2D((2, 2)))\n",
        "\n",
        "model3.add(layers.Flatten())\n",
        "model.add(layers.Dropout(0.4, input_shape=(2000,)))\n",
        "model3.add(layers.Dense(64, activation='relu'))\n",
        "model3.add(layers.Dense(5, activation='softmax'))\n",
        "\n",
        "model2.compile(loss='categorical_crossentropy',\n",
        "              optimizer=\"sgd\",\n",
        "              metrics=['acc'])"
      ],
      "execution_count": 0,
      "outputs": []
    }
  ]
}